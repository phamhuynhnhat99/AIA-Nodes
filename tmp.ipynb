{
 "cells": [
  {
   "cell_type": "code",
   "execution_count": 3,
   "id": "d605c5cc",
   "metadata": {},
   "outputs": [],
   "source": [
    "class Flow:\n",
    "\n",
    "    def __init__(self):\n",
    "        self.vertices = list()\n",
    "        self.arrows = list()\n",
    "\n",
    "\n",
    "    def constructor(self, vertices, arrows):\n",
    "\n",
    "        self.decode_vertices = vertices\n",
    "        self.vertices = [_ for _ in range(len(vertices))]\n",
    "        \n",
    "        self.arrows = []\n",
    "        for arrow in arrows:\n",
    "            u = vertices.index(arrow[0])\n",
    "            v = vertices.index(arrow[1])\n",
    "            self.arrows.append([u, v])\n",
    "        self.m = len(self.arrows)\n",
    "    \n",
    "\n",
    "    def toposort(self):\n",
    "\n",
    "        if not self.vertices or not self.arrows:\n",
    "            return list(), []\n",
    "        \n",
    "        num_prev = [0] * len(self.vertices)\n",
    "        num_next = [0] * len(self.vertices)\n",
    "\n",
    "        head = [-1] * len(self.vertices)\n",
    "        before = [None] * self.m\n",
    "        adj = [None] * self.m\n",
    "\n",
    "        for i, ar in enumerate(self.arrows):\n",
    "            u, v = ar[0], ar[1]\n",
    "            num_next[u] += 1\n",
    "            num_prev[v] += 1\n",
    "            adj[i] = v\n",
    "            before[i] = head[u]\n",
    "            head[u] = i\n",
    "\n",
    "        end_vertices = [u for u in self.vertices if num_next[u] == 0]\n",
    "        \n",
    "        topo_queue = []\n",
    "        for ver in self.vertices:\n",
    "            if num_prev[ver] == 0:\n",
    "                topo_queue.append(ver)\n",
    "        \n",
    "        toposort = []\n",
    "        b_ind, e_ind = 0, 0\n",
    "        while b_ind <= e_ind:\n",
    "            if len(topo_queue) > 0:\n",
    "                u = topo_queue[0]\n",
    "                topo_queue = topo_queue[1:]\n",
    "                e_ind += 1\n",
    "                toposort.append(u)\n",
    "                pos = head[u]\n",
    "                while pos != -1:\n",
    "                    v = adj[pos]\n",
    "                    num_prev[v] -= 1\n",
    "                    if num_prev[v] == 0:\n",
    "                        topo_queue.append(v)\n",
    "                    pos = before[pos]\n",
    "                b_ind += 1\n",
    "            else:\n",
    "                break\n",
    "        \n",
    "        if e_ind < len(self.vertices):\n",
    "            toposort = list()\n",
    "            end_vertices = list()\n",
    "\n",
    "        # decode\n",
    "        decode_toposort = [self.decode_vertices[_] for _ in toposort]\n",
    "        decode_end_vertices = [self.decode_vertices[_] for _ in end_vertices]\n",
    "        return decode_toposort, decode_end_vertices\n",
    "        "
   ]
  },
  {
   "cell_type": "code",
   "execution_count": 9,
   "id": "7503b431",
   "metadata": {},
   "outputs": [],
   "source": [
    "flow = Flow()\n",
    "flow.constructor(vertices = [7, 8, 6], arrows=[[7, 8]])\n",
    "order, end_v = flow.toposort()"
   ]
  },
  {
   "cell_type": "code",
   "execution_count": 10,
   "id": "757ce35e",
   "metadata": {},
   "outputs": [
    {
     "data": {
      "text/plain": [
       "[7, 6, 8]"
      ]
     },
     "execution_count": 10,
     "metadata": {},
     "output_type": "execute_result"
    }
   ],
   "source": [
    "order"
   ]
  },
  {
   "cell_type": "code",
   "execution_count": 11,
   "id": "5e386823",
   "metadata": {},
   "outputs": [
    {
     "data": {
      "text/plain": [
       "[8, 6]"
      ]
     },
     "execution_count": 11,
     "metadata": {},
     "output_type": "execute_result"
    }
   ],
   "source": [
    "end_v"
   ]
  },
  {
   "cell_type": "code",
   "execution_count": null,
   "id": "51ae1001",
   "metadata": {},
   "outputs": [],
   "source": []
  }
 ],
 "metadata": {
  "kernelspec": {
   "display_name": "Python 3 (ipykernel)",
   "language": "python",
   "name": "python3"
  },
  "language_info": {
   "codemirror_mode": {
    "name": "ipython",
    "version": 3
   },
   "file_extension": ".py",
   "mimetype": "text/x-python",
   "name": "python",
   "nbconvert_exporter": "python",
   "pygments_lexer": "ipython3",
   "version": "3.8.2"
  }
 },
 "nbformat": 4,
 "nbformat_minor": 5
}
