{
 "cells": [
  {
   "cell_type": "markdown",
   "id": "75fe1ae0",
   "metadata": {},
   "source": [
    "<h1> Nothing is impossible </h1>"
   ]
  },
  {
   "cell_type": "code",
   "execution_count": 1,
   "id": "b934982a",
   "metadata": {},
   "outputs": [],
   "source": [
    "import numpy as np\n",
    "import random"
   ]
  },
  {
   "cell_type": "code",
   "execution_count": 2,
   "id": "99acad4e",
   "metadata": {},
   "outputs": [],
   "source": [
    "inf = 99999999"
   ]
  },
  {
   "cell_type": "code",
   "execution_count": 3,
   "id": "d946ca29",
   "metadata": {},
   "outputs": [],
   "source": [
    "def build_tree(tree, a, l_ind, r_ind, node_ind):\n",
    "    if l_ind == r_ind:\n",
    "        tree[node_ind] = a[l_ind]\n",
    "    else: # l_ind < r_ind\n",
    "        m_ind = (l_ind + r_ind) // 2\n",
    "        l_node_ind = 2 * node_ind + 1\n",
    "        r_node_ind = 2 * node_ind + 2\n",
    "        build_tree(tree, a, l_ind, m_ind, l_node_ind)\n",
    "        build_tree(tree, a, m_ind + 1, r_ind, r_node_ind)\n",
    "        if tree[l_node_ind] > tree[r_node_ind]:\n",
    "            tree[node_ind] = tree[l_node_ind]\n",
    "        else:\n",
    "            tree[node_ind] = tree[r_node_ind]\n",
    "            \n",
    "\n",
    "def query_tree(tree, l_ind, r_ind, node_ind, u, v):\n",
    "    if v < l_ind or r_ind < u:\n",
    "        return -inf\n",
    "    elif u <= l_ind and r_ind <= v:\n",
    "        return tree[node_ind]\n",
    "    else:\n",
    "        m_ind = (l_ind + r_ind) // 2\n",
    "        l_node_ind = 2 * node_ind + 1\n",
    "        r_node_ind = 2 * node_ind + 2\n",
    "        l_result = query_tree(tree, l_ind, m_ind, l_node_ind, u, v)\n",
    "        r_result = query_tree(tree, m_ind+1, r_ind, r_node_ind, u, v)\n",
    "        if l_result > r_result:\n",
    "            return l_result\n",
    "        else:\n",
    "            return r_result\n",
    "\n",
    "        \n",
    "def update_tree(tree, l_ind, r_ind, node_ind, i, new_value):\n",
    "    if i < l_ind or r_ind < i:\n",
    "        return\n",
    "    elif l_ind == r_ind:\n",
    "        tree[node_ind] = new_value\n",
    "    else:\n",
    "        m_ind = (l_ind + r_ind) // 2\n",
    "        l_node_ind = 2 * node_ind + 1\n",
    "        r_node_ind = 2 * node_ind + 2\n",
    "        update_tree(tree, l_ind, m_ind, l_node_ind, i, new_value)\n",
    "        update_tree(tree, m_ind+1, r_ind, r_node_ind, i, new_value)\n",
    "        if tree[l_node_ind] > tree[r_node_ind]:\n",
    "            tree[node_ind] = tree[l_node_ind]\n",
    "        else:\n",
    "            tree[node_ind] = tree[r_node_ind]"
   ]
  },
  {
   "cell_type": "code",
   "execution_count": 8,
   "id": "39d994f5",
   "metadata": {},
   "outputs": [
    {
     "data": {
      "text/plain": [
       "[7, 10, 31, 2, 13, 3, 5, 31, 1, 33, 1, 20, 33, 33, 9, 13, 26, 30, 34, 15]"
      ]
     },
     "execution_count": 8,
     "metadata": {},
     "output_type": "execute_result"
    }
   ],
   "source": [
    "r = lambda: random.randint(0, 39)\n",
    "a = [r() for _ in range(20)]\n",
    "n = len(a)\n",
    "a"
   ]
  },
  {
   "cell_type": "code",
   "execution_count": 9,
   "id": "7cf18cf1",
   "metadata": {},
   "outputs": [],
   "source": [
    "interval_tree = [-1] * 4 * n\n",
    "build_tree(interval_tree, a, 0, n-1, 0)"
   ]
  },
  {
   "cell_type": "code",
   "execution_count": 10,
   "id": "c82a5964",
   "metadata": {},
   "outputs": [
    {
     "data": {
      "text/plain": [
       "33"
      ]
     },
     "execution_count": 10,
     "metadata": {},
     "output_type": "execute_result"
    }
   ],
   "source": [
    "query_tree(interval_tree, 0, n-1, 0, 5, 10)"
   ]
  },
  {
   "cell_type": "code",
   "execution_count": 11,
   "id": "4aa2f0a6",
   "metadata": {},
   "outputs": [
    {
     "name": "stdout",
     "output_type": "stream",
     "text": [
      "[7, 10, 31, 2, 13, 3, 5, 31, 1, 33, 555, 20, 33, 33, 9, 13, 26, 30, 34, 15]\n"
     ]
    },
    {
     "data": {
      "text/plain": [
       "555"
      ]
     },
     "execution_count": 11,
     "metadata": {},
     "output_type": "execute_result"
    }
   ],
   "source": [
    "a[10] = 555\n",
    "update_tree(interval_tree, 0, n-1, 0, 8, 555)\n",
    "print(a)\n",
    "query_tree(interval_tree, 0, n-1, 0, 5, 10)"
   ]
  },
  {
   "cell_type": "code",
   "execution_count": null,
   "id": "d8abeca7",
   "metadata": {},
   "outputs": [],
   "source": []
  }
 ],
 "metadata": {
  "kernelspec": {
   "display_name": "Python 3.10.8 64-bit",
   "language": "python",
   "name": "python3"
  },
  "language_info": {
   "codemirror_mode": {
    "name": "ipython",
    "version": 3
   },
   "file_extension": ".py",
   "mimetype": "text/x-python",
   "name": "python",
   "nbconvert_exporter": "python",
   "pygments_lexer": "ipython3",
   "version": "3.10.8"
  },
  "vscode": {
   "interpreter": {
    "hash": "8a94588eda9d64d9e9a351ab8144e55b1fabf5113b54e67dd26a8c27df0381b3"
   }
  }
 },
 "nbformat": 4,
 "nbformat_minor": 5
}
