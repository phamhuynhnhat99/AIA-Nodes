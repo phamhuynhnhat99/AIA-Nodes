{
 "cells": [
  {
   "cell_type": "code",
   "execution_count": 34,
   "id": "65d3bd8f",
   "metadata": {},
   "outputs": [],
   "source": [
    "def comparison(x, y):\n",
    "    if x < y:\n",
    "        return -1\n",
    "    elif x > y:\n",
    "        return 1\n",
    "    else:\n",
    "        return 0\n",
    "\n",
    "\n",
    "def partion(a, l, r):\n",
    "    pivot = a[r]\n",
    "    i = l - 1\n",
    "    for j in range(l, r):\n",
    "        if comparison(a[j], pivot) <= 0:\n",
    "            i = i + 1\n",
    "            a[i], a[j] = a[j], a[i]\n",
    "    a[i+1], a[r] = a[r], a[i+1]\n",
    "    return i + 1\n",
    "\n",
    "    \n",
    "def quick_sort(a, l, r):\n",
    "    if l < r:\n",
    "        pivot = partion(a, l, r)\n",
    "        quick_sort(a, l, pivot-1)\n",
    "        quick_sort(a, pivot+1, r)"
   ]
  },
  {
   "cell_type": "code",
   "execution_count": 35,
   "id": "b4a3c9fd",
   "metadata": {},
   "outputs": [
    {
     "data": {
      "text/plain": [
       "[1, 1, 2, 2, 3, 3, 4, 5, 6, 7]"
      ]
     },
     "execution_count": 35,
     "metadata": {},
     "output_type": "execute_result"
    }
   ],
   "source": [
    "a = [4, 2, 5, 1, 6, 3, 2, 7, 1, 3]\n",
    "l = 0\n",
    "r = len(a) - 1\n",
    "quick_sort(a, l, r)\n",
    "a"
   ]
  },
  {
   "cell_type": "code",
   "execution_count": 68,
   "id": "7d45d9f9",
   "metadata": {},
   "outputs": [],
   "source": [
    "def find_leftmost_equal(a, l, r, value):\n",
    "    res = -1\n",
    "    while l <= r:\n",
    "        m = (l + r) // 2\n",
    "        if comparison(a[m], value) == -1:\n",
    "            l = m + 1\n",
    "        elif comparison(a[m], value) == 1:\n",
    "            r = m - 1\n",
    "        else: # comparison(a[m], value) == 0:\n",
    "            res = m\n",
    "            r = m - 1\n",
    "    return res\n",
    "    \n",
    "    \n",
    "def find_rightmost_equal(a, l, r, value):\n",
    "    res = -1\n",
    "    while l <= r:\n",
    "        m = (l + r) // 2\n",
    "        if comparison(a[m], value) == -1:\n",
    "            l = m + 1\n",
    "        elif comparison(a[m], value) == 1:\n",
    "            r = m - 1\n",
    "        else: # comparison(a[m], value) == 0:\n",
    "            res = m\n",
    "            l = m + 1\n",
    "    return res\n",
    "\n",
    "\n",
    "def find_leftmost_bigger(a, l, r, value):\n",
    "    res = -1\n",
    "    while l <= r:\n",
    "        m = (l + r) // 2\n",
    "        if comparison(a[m], value) == -1:\n",
    "            l = m + 1\n",
    "        elif comparison(a[m], value) == 1:\n",
    "            res = m\n",
    "            r = m - 1\n",
    "        else: # comparison(a[m], value) == 0:\n",
    "            l = m + 1\n",
    "    return res\n",
    "\n",
    "\n",
    "def find_rightmost_smaller(a, l, r, value):\n",
    "    res = -1\n",
    "    while l <= r:\n",
    "        m = (l + r) // 2\n",
    "        if comparison(a[m], value) == -1:\n",
    "            res = m\n",
    "            l = m + 1\n",
    "        elif comparison(a[m], value) == 1:\n",
    "            r = m - 1\n",
    "        else: # comparison(a[m], value) == 0:\n",
    "            r = m - 1\n",
    "    return res"
   ]
  },
  {
   "cell_type": "code",
   "execution_count": 69,
   "id": "056c8324",
   "metadata": {},
   "outputs": [
    {
     "name": "stdout",
     "output_type": "stream",
     "text": [
      "4\n",
      "5\n",
      "6\n",
      "3\n"
     ]
    }
   ],
   "source": [
    "print(find_leftmost_equal(a, l, r, 3))\n",
    "print(find_rightmost_equal(a, l, r, 3))\n",
    "print(find_leftmost_bigger(a, l, r, 3))\n",
    "print(find_rightmost_smaller(a, l, r, 3))"
   ]
  },
  {
   "cell_type": "code",
   "execution_count": 5,
   "id": "1aa88ad7",
   "metadata": {},
   "outputs": [],
   "source": [
    "import random\n",
    "\n",
    "r = lambda: random.randint(0, 40)"
   ]
  },
  {
   "cell_type": "code",
   "execution_count": 6,
   "id": "477d9bac",
   "metadata": {},
   "outputs": [],
   "source": [
    "class myElement:\n",
    "    \n",
    "    def __init__(self):\n",
    "        self.value = r()\n",
    "        self.index = None\n",
    "        \n",
    "    \n",
    "    def __init__(self, v, i):\n",
    "        self.value = v\n",
    "        self.index = i"
   ]
  },
  {
   "cell_type": "code",
   "execution_count": 12,
   "id": "f36cbd28",
   "metadata": {},
   "outputs": [
    {
     "name": "stdout",
     "output_type": "stream",
     "text": [
      "0 19\n",
      "1 4\n",
      "2 20\n",
      "3 35\n",
      "4 20\n",
      "5 26\n",
      "6 3\n",
      "7 33\n",
      "8 7\n",
      "9 28\n"
     ]
    }
   ],
   "source": [
    "myArray = []\n",
    "for _ in range(10):\n",
    "    ele = myElement()\n",
    "    ele.index = _\n",
    "    myArray.append(ele)\n",
    "for _ in myArray:\n",
    "    print(_.index, _.value)"
   ]
  },
  {
   "cell_type": "code",
   "execution_count": 13,
   "id": "b30d1f0a",
   "metadata": {},
   "outputs": [],
   "source": [
    "def comparison(x, y):\n",
    "    if x < y:\n",
    "        return -1\n",
    "    elif x > y:\n",
    "        return 1\n",
    "    else:\n",
    "        return 0\n",
    "\n",
    "\n",
    "def partion(a, l, r):\n",
    "    pivot = a[r]\n",
    "    i = l - 1\n",
    "    for j in range(l, r):\n",
    "        if comparison(a[j].value, pivot.value) <= 0:\n",
    "            i = i + 1\n",
    "            a[i], a[j] = a[j], a[i]\n",
    "    a[i+1], a[r] = a[r], a[i+1]\n",
    "    return i + 1\n",
    "\n",
    "    \n",
    "def quick_sort(a, l, r):\n",
    "    if l < r:\n",
    "        pivot = partion(a, l, r)\n",
    "        quick_sort(a, l, pivot-1)\n",
    "        quick_sort(a, pivot+1, r)"
   ]
  },
  {
   "cell_type": "code",
   "execution_count": 14,
   "id": "1a2660f3",
   "metadata": {},
   "outputs": [],
   "source": [
    "quick_sort(myArray, 0, len(myArray)-1)"
   ]
  },
  {
   "cell_type": "code",
   "execution_count": 15,
   "id": "dca14519",
   "metadata": {},
   "outputs": [
    {
     "name": "stdout",
     "output_type": "stream",
     "text": [
      "6 3\n",
      "1 4\n",
      "8 7\n",
      "0 19\n",
      "4 20\n",
      "2 20\n",
      "5 26\n",
      "9 28\n",
      "7 33\n",
      "3 35\n"
     ]
    }
   ],
   "source": [
    "for _ in myArray:\n",
    "    print(_.index, _.value)"
   ]
  },
  {
   "cell_type": "code",
   "execution_count": null,
   "id": "3642e7de",
   "metadata": {},
   "outputs": [],
   "source": []
  }
 ],
 "metadata": {
  "kernelspec": {
   "display_name": "Python 3 (ipykernel)",
   "language": "python",
   "name": "python3"
  },
  "language_info": {
   "codemirror_mode": {
    "name": "ipython",
    "version": 3
   },
   "file_extension": ".py",
   "mimetype": "text/x-python",
   "name": "python",
   "nbconvert_exporter": "python",
   "pygments_lexer": "ipython3",
   "version": "3.8.2"
  }
 },
 "nbformat": 4,
 "nbformat_minor": 5
}
