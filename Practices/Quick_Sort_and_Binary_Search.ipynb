{
 "cells": [
  {
   "cell_type": "code",
   "execution_count": 34,
   "id": "65d3bd8f",
   "metadata": {},
   "outputs": [],
   "source": [
    "def comparison(x, y):\n",
    "    if x < y:\n",
    "        return -1\n",
    "    elif x > y:\n",
    "        return 1\n",
    "    else:\n",
    "        return 0\n",
    "\n",
    "\n",
    "def partion(a, l, r):\n",
    "    pivot = a[r]\n",
    "    i = l - 1\n",
    "    for j in range(l, r):\n",
    "        if comparison(a[j], pivot) <= 0:\n",
    "            i = i + 1\n",
    "            a[i], a[j] = a[j], a[i]\n",
    "    a[i+1], a[r] = a[r], a[i+1]\n",
    "    return i + 1\n",
    "\n",
    "    \n",
    "def quick_sort(a, l, r):\n",
    "    if l < r:\n",
    "        pivot = partion(a, l, r)\n",
    "        quick_sort(a, l, pivot-1)\n",
    "        quick_sort(a, pivot+1, r)"
   ]
  },
  {
   "cell_type": "code",
   "execution_count": 35,
   "id": "b4a3c9fd",
   "metadata": {},
   "outputs": [
    {
     "data": {
      "text/plain": [
       "[1, 1, 2, 2, 3, 3, 4, 5, 6, 7]"
      ]
     },
     "execution_count": 35,
     "metadata": {},
     "output_type": "execute_result"
    }
   ],
   "source": [
    "a = [4, 2, 5, 1, 6, 3, 2, 7, 1, 3]\n",
    "l = 0\n",
    "r = len(a) - 1\n",
    "quick_sort(a, l, r)\n",
    "a"
   ]
  },
  {
   "cell_type": "code",
   "execution_count": 68,
   "id": "7d45d9f9",
   "metadata": {},
   "outputs": [],
   "source": [
    "def find_leftmost_equal(a, l, r, value):\n",
    "    res = -1\n",
    "    while l <= r:\n",
    "        m = (l + r) // 2\n",
    "        if comparison(a[m], value) == -1:\n",
    "            l = m + 1\n",
    "        elif comparison(a[m], value) == 1:\n",
    "            r = m - 1\n",
    "        else: # comparison(a[m], value) == 0:\n",
    "            res = m\n",
    "            r = m - 1\n",
    "    return res\n",
    "    \n",
    "    \n",
    "def find_rightmost_equal(a, l, r, value):\n",
    "    res = -1\n",
    "    while l <= r:\n",
    "        m = (l + r) // 2\n",
    "        if comparison(a[m], value) == -1:\n",
    "            l = m + 1\n",
    "        elif comparison(a[m], value) == 1:\n",
    "            r = m - 1\n",
    "        else: # comparison(a[m], value) == 0:\n",
    "            res = m\n",
    "            l = m + 1\n",
    "    return res\n",
    "\n",
    "\n",
    "def find_leftmost_bigger(a, l, r, value):\n",
    "    res = -1\n",
    "    while l <= r:\n",
    "        m = (l + r) // 2\n",
    "        if comparison(a[m], value) == -1:\n",
    "            l = m + 1\n",
    "        elif comparison(a[m], value) == 1:\n",
    "            res = m\n",
    "            r = m - 1\n",
    "        else: # comparison(a[m], value) == 0:\n",
    "            l = m + 1\n",
    "    return res\n",
    "\n",
    "\n",
    "def find_rightmost_smaller(a, l, r, value):\n",
    "    res = -1\n",
    "    while l <= r:\n",
    "        m = (l + r) // 2\n",
    "        if comparison(a[m], value) == -1:\n",
    "            res = m\n",
    "            l = m + 1\n",
    "        elif comparison(a[m], value) == 1:\n",
    "            r = m - 1\n",
    "        else: # comparison(a[m], value) == 0:\n",
    "            r = m - 1\n",
    "    return res"
   ]
  },
  {
   "cell_type": "code",
   "execution_count": 69,
   "id": "056c8324",
   "metadata": {},
   "outputs": [
    {
     "name": "stdout",
     "output_type": "stream",
     "text": [
      "4\n",
      "5\n",
      "6\n",
      "3\n"
     ]
    }
   ],
   "source": [
    "print(find_leftmost_equal(a, l, r, 3))\n",
    "print(find_rightmost_equal(a, l, r, 3))\n",
    "print(find_leftmost_bigger(a, l, r, 3))\n",
    "print(find_rightmost_smaller(a, l, r, 3))"
   ]
  },
  {
   "cell_type": "code",
   "execution_count": 5,
   "id": "e847dd1a",
   "metadata": {},
   "outputs": [],
   "source": [
    "import random\n",
    "\n",
    "r = lambda: random.randint(0, 40)"
   ]
  },
  {
   "cell_type": "code",
   "execution_count": 16,
   "id": "48675791",
   "metadata": {},
   "outputs": [],
   "source": [
    "class myElement:\n",
    "            \n",
    "    def __init__(self, v, i):\n",
    "        self.value = v\n",
    "        self.index = i"
   ]
  },
  {
   "cell_type": "code",
   "execution_count": 18,
   "id": "4d502f75",
   "metadata": {},
   "outputs": [
    {
     "name": "stdout",
     "output_type": "stream",
     "text": [
      "0 25\n",
      "1 13\n",
      "2 3\n",
      "3 25\n",
      "4 18\n",
      "5 6\n",
      "6 21\n",
      "7 14\n",
      "8 28\n",
      "9 3\n"
     ]
    }
   ],
   "source": [
    "myArray = []\n",
    "for _ in range(10):\n",
    "    ele = myElement(r(), _)\n",
    "    myArray.append(ele)\n",
    "for _ in myArray:\n",
    "    print(_.index, _.value)"
   ]
  },
  {
   "cell_type": "code",
   "execution_count": 19,
   "id": "b30d1f0a",
   "metadata": {},
   "outputs": [],
   "source": [
    "def comparison(x, y):\n",
    "    if x < y:\n",
    "        return -1\n",
    "    elif x > y:\n",
    "        return 1\n",
    "    else:\n",
    "        return 0\n",
    "\n",
    "\n",
    "def partion(a, l, r):\n",
    "    pivot = a[r]\n",
    "    i = l - 1\n",
    "    for j in range(l, r):\n",
    "        if comparison(a[j].value, pivot.value) <= 0:\n",
    "            i = i + 1\n",
    "            a[i], a[j] = a[j], a[i]\n",
    "    a[i+1], a[r] = a[r], a[i+1]\n",
    "    return i + 1\n",
    "\n",
    "    \n",
    "def quick_sort(a, l, r):\n",
    "    if l < r:\n",
    "        pivot = partion(a, l, r)\n",
    "        quick_sort(a, l, pivot-1)\n",
    "        quick_sort(a, pivot+1, r)"
   ]
  },
  {
   "cell_type": "code",
   "execution_count": 20,
   "id": "ae743b55",
   "metadata": {},
   "outputs": [],
   "source": [
    "quick_sort(myArray, 0, len(myArray)-1)"
   ]
  },
  {
   "cell_type": "code",
   "execution_count": 21,
   "id": "dcdbf1cd",
   "metadata": {},
   "outputs": [
    {
     "name": "stdout",
     "output_type": "stream",
     "text": [
      "2 3\n",
      "9 3\n",
      "5 6\n",
      "1 13\n",
      "7 14\n",
      "4 18\n",
      "6 21\n",
      "0 25\n",
      "3 25\n",
      "8 28\n"
     ]
    }
   ],
   "source": [
    "for _ in myArray:\n",
    "    print(_.index, _.value)"
   ]
  },
  {
   "cell_type": "code",
   "execution_count": 22,
   "id": "83d15035",
   "metadata": {},
   "outputs": [],
   "source": [
    "def minimumAverage(customers):\n",
    "    # Write your code here\n",
    "    arr = []\n",
    "    for ind, customer in enumerate(customers):\n",
    "        value = customer[1] - customer[0]\n",
    "        arr.append(myElement(value, ind))\n",
    "    quick_sort(arr, 0, len(arr)-1)\n",
    "    total = 0\n",
    "    bef = 0\n",
    "    for element in arr:\n",
    "        i = element.index\n",
    "        total += element.value + bef\n",
    "        bef = bef + customers[i][1]\n",
    "    return total // len(customers)"
   ]
  },
  {
   "cell_type": "code",
   "execution_count": 23,
   "id": "610518c5",
   "metadata": {},
   "outputs": [],
   "source": [
    "customers = [[961148050, 385599125],\n",
    "[951133776, 376367013],\n",
    "[283280121, 782916802],\n",
    "[317664929, 898415172],\n",
    "[980913391, 847912645]]"
   ]
  },
  {
   "cell_type": "code",
   "execution_count": null,
   "id": "7d19bfd2",
   "metadata": {},
   "outputs": [],
   "source": []
  },
  {
   "cell_type": "code",
   "execution_count": null,
   "id": "9ae5ac1d",
   "metadata": {},
   "outputs": [],
   "source": []
  },
  {
   "cell_type": "code",
   "execution_count": 2,
   "id": "72b62fce",
   "metadata": {},
   "outputs": [],
   "source": [
    "import numpy as np\n",
    "import random"
   ]
  },
  {
   "cell_type": "code",
   "execution_count": 9,
   "id": "cf5dd24c",
   "metadata": {},
   "outputs": [],
   "source": [
    "a = [4, 2, 5, 1, 6, 3, 2, 7, 1, 3]\n",
    "l = 0\n",
    "r = len(a) - 1"
   ]
  },
  {
   "cell_type": "code",
   "execution_count": 29,
   "id": "1478a18f",
   "metadata": {},
   "outputs": [
    {
     "data": {
      "text/plain": [
       "6"
      ]
     },
     "execution_count": 29,
     "metadata": {},
     "output_type": "execute_result"
    }
   ],
   "source": [
    "random.randint(5, 7)"
   ]
  },
  {
   "cell_type": "code",
   "execution_count": 30,
   "id": "7bba03b1",
   "metadata": {},
   "outputs": [],
   "source": [
    "def comparison(x, y):\n",
    "    if x < y:\n",
    "        return -1\n",
    "    elif x > y:\n",
    "        return 1\n",
    "    else:\n",
    "        return 0\n",
    "\n",
    "def quick_sort(a, first_ind, last_ind):\n",
    "    left = first_ind\n",
    "    right = last_ind\n",
    "    pivot = a[np.random.randint(left, right)]\n",
    "    while left < right:\n",
    "        while comparison(a[left], pivot) < 0:\n",
    "            left = left + 1\n",
    "        while comparison(pivot, a[right]) < 0:\n",
    "            right = right - 1\n",
    "        if left <= right:\n",
    "            a[left], a[right] = a[right], a[left]\n",
    "            left = left + 1\n",
    "            right = right - 1\n",
    "    if first_ind < right:\n",
    "        quick_sort(a, first_ind, right)\n",
    "    if left < last_ind:\n",
    "        quick_sort(a, left, last_ind)"
   ]
  },
  {
   "cell_type": "code",
   "execution_count": 31,
   "id": "55fd0bc7",
   "metadata": {},
   "outputs": [
    {
     "name": "stdout",
     "output_type": "stream",
     "text": [
      "[1, 1, 2, 2, 3, 3, 4, 5, 6, 7, 8]\n"
     ]
    },
    {
     "data": {
      "text/plain": [
       "[[1, 1, 2, 2], [3, 3, 4, 5], [6, 7, 8]]"
      ]
     },
     "execution_count": 31,
     "metadata": {},
     "output_type": "execute_result"
    }
   ],
   "source": [
    "my_arr = [4, 2, 5, 1, 6, 3, 2, 7, 1, 3, 8]\n",
    "quick_sort(my_arr, 0, len(my_arr)-1)\n",
    "print(my_arr)\n",
    "num_col = int(np.ceil(np.sqrt(len(my_arr))))\n",
    "pretty_arr = []\n",
    "sub_arr = []\n",
    "for _ in my_arr:\n",
    "    if len(sub_arr) < num_col:\n",
    "        sub_arr.append(_)\n",
    "        if len(sub_arr) == num_col:\n",
    "            pretty_arr.append(sub_arr)\n",
    "            sub_arr = []\n",
    "if sub_arr:\n",
    "    pretty_arr.append(sub_arr)\n",
    "pretty_arr"
   ]
  },
  {
   "cell_type": "code",
   "execution_count": 17,
   "id": "8e3f2338",
   "metadata": {},
   "outputs": [
    {
     "name": "stderr",
     "output_type": "stream",
     "text": [
      "/tmp/ipykernel_24992/1880348561.py:1: VisibleDeprecationWarning: Creating an ndarray from ragged nested sequences (which is a list-or-tuple of lists-or-tuples-or ndarrays with different lengths or shapes) is deprecated. If you meant to do this, you must specify 'dtype=object' when creating the ndarray.\n",
      "  np.array([[1, 2, 5], [3, 4]])\n"
     ]
    },
    {
     "data": {
      "text/plain": [
       "array([list([1, 2, 5]), list([3, 4])], dtype=object)"
      ]
     },
     "execution_count": 17,
     "metadata": {},
     "output_type": "execute_result"
    }
   ],
   "source": [
    "np.array([[1, 2, 5], [3, 4]])"
   ]
  },
  {
   "cell_type": "code",
   "execution_count": 36,
   "id": "43f7809b",
   "metadata": {},
   "outputs": [
    {
     "data": {
      "text/plain": [
       "['1 6 5', '5  9 0']"
      ]
     },
     "execution_count": 36,
     "metadata": {},
     "output_type": "execute_result"
    }
   ],
   "source": [
    "s = \"1 6 5\\n5  9 0\"\n",
    "lines = s.splitlines()\n",
    "lines"
   ]
  },
  {
   "cell_type": "code",
   "execution_count": 37,
   "id": "972d768e",
   "metadata": {},
   "outputs": [
    {
     "data": {
      "text/plain": [
       "array([['1', '6', '5'],\n",
       "       ['5', '9', '0']], dtype='<U1')"
      ]
     },
     "execution_count": 37,
     "metadata": {},
     "output_type": "execute_result"
    }
   ],
   "source": [
    "expression_mylist = np.array([[exp for exp in list(filter(lambda s: s != '', l.split(' ')))] for l in lines])\n",
    "expression_mylist"
   ]
  },
  {
   "cell_type": "code",
   "execution_count": null,
   "id": "c4ba5baa",
   "metadata": {},
   "outputs": [],
   "source": []
  }
 ],
 "metadata": {
  "kernelspec": {
   "display_name": "Python 3 (ipykernel)",
   "language": "python",
   "name": "python3"
  },
  "language_info": {
   "codemirror_mode": {
    "name": "ipython",
    "version": 3
   },
   "file_extension": ".py",
   "mimetype": "text/x-python",
   "name": "python",
   "nbconvert_exporter": "python",
   "pygments_lexer": "ipython3",
   "version": "3.8.2"
  }
 },
 "nbformat": 4,
 "nbformat_minor": 5
}
