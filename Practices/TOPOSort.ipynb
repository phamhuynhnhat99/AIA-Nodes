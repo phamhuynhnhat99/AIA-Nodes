{
 "cells": [
  {
   "cell_type": "code",
   "execution_count": 1,
   "id": "d5e82cab",
   "metadata": {},
   "outputs": [],
   "source": [
    "import numpy as np"
   ]
  },
  {
   "cell_type": "code",
   "execution_count": 2,
   "id": "b5abe3fa",
   "metadata": {},
   "outputs": [],
   "source": [
    "class Node:\n",
    "    \n",
    "    def __init__(self, name, vertex, value):\n",
    "        self.name = name\n",
    "        self.vertex = vertex\n",
    "        self.value = value\n",
    "        \n",
    "        \n",
    "    def comparison(self, anotherNode):\n",
    "        if self.value < anotherNode.value:\n",
    "            return -1\n",
    "        if self.value > anotherNode.value:\n",
    "            return 1\n",
    "        return 0"
   ]
  },
  {
   "cell_type": "code",
   "execution_count": 3,
   "id": "58136f05",
   "metadata": {},
   "outputs": [],
   "source": [
    "class Heap:\n",
    "    \n",
    "    def __init__(self, max_size):\n",
    "        self.max_size = max_size\n",
    "        tmp_node = Node(None, None, None)\n",
    "        self.heap = [tmp_node] * self.max_size\n",
    "        self.size = 0\n",
    "        \n",
    "        \n",
    "    def up(self, index):\n",
    "        clone_node = self.heap[index]\n",
    "        \n",
    "        current_index = index\n",
    "        father_index = (current_index - 1) // 2\n",
    "        while father_index >= 0 and clone_node.comparison(self.heap[father_index]) < 0:\n",
    "            self.heap[current_index] = self.heap[father_index]\n",
    "            current_index = father_index\n",
    "            father_index = (current_index - 1) // 2\n",
    "        self.heap[current_index] = clone_node\n",
    "    \n",
    "    \n",
    "    def down(self, index): # down from top\n",
    "        clone_node = self.heap[index]\n",
    "        \n",
    "        current_index = index\n",
    "        son1_index = current_index * 2 + 1\n",
    "        son2_index = current_index * 2 + 2\n",
    "        \n",
    "        son_index = None\n",
    "        if son1_index < self.size:\n",
    "            son_index = son1_index\n",
    "            if self.heap[son2_index].comparison(self.heap[son1_index]) < 0:\n",
    "                son_index = son2_index\n",
    "            \n",
    "        while son_index and clone_node.comparison(self.heap[son_index]) > 0:\n",
    "            self.heap[current_index] = self.heap[son_index]\n",
    "            current_index = son_index\n",
    "            son1_index = current_index * 2 + 1\n",
    "            son2_index = current_index * 2 + 2\n",
    "            \n",
    "            son_index = None\n",
    "            if son1_index < self.size:\n",
    "                son_index = son1_index\n",
    "                if self.heap[son2_index].comparison(self.heap[son1_index]) < 0:\n",
    "                    son_index = son2_index\n",
    "                \n",
    "        self.heap[current_index] = clone_node\n",
    "    \n",
    "    \n",
    "    def push(self, node):\n",
    "        self.size = self.size + 1\n",
    "        self.heap[self.size - 1] = node\n",
    "        self.up(self.size - 1)\n",
    "       \n",
    "    \n",
    "    def pop(self):\n",
    "        if self.size == 0:\n",
    "            return Node(None, None, None)\n",
    "        \n",
    "        top_node = self.heap[0]\n",
    "        self.heap[0] = self.heap[self.size - 1]\n",
    "        self.size = self.size - 1\n",
    "        self.down(0)\n",
    "        return top_node"
   ]
  },
  {
   "cell_type": "code",
   "execution_count": 4,
   "id": "26464178",
   "metadata": {},
   "outputs": [],
   "source": [
    "all_tasks = ['task 0', 'task 1', 'task 2', 'task 3', 'task 4', 'task 5', 'task 6', 'task 7', 'task 8']\n",
    "priorities = [10, 11, 12, 13, 14, 15, 16, 17, 18]\n",
    "n = len(all_tasks)"
   ]
  },
  {
   "cell_type": "code",
   "execution_count": 5,
   "id": "3de35099",
   "metadata": {},
   "outputs": [],
   "source": [
    "def numeric_arrows(all_tasks, arrows):\n",
    "    na = []\n",
    "    for arrow in arrows:\n",
    "        na.append([all_tasks.index(arrow[0]), all_tasks.index(arrow[1])])\n",
    "    return na"
   ]
  },
  {
   "cell_type": "code",
   "execution_count": 6,
   "id": "539d3b7c",
   "metadata": {},
   "outputs": [
    {
     "data": {
      "text/plain": [
       "[[7, 0],\n",
       " [1, 4],\n",
       " [1, 2],\n",
       " [4, 2],\n",
       " [4, 3],\n",
       " [3, 2],\n",
       " [3, 5],\n",
       " [5, 2],\n",
       " [8, 2],\n",
       " [8, 6]]"
      ]
     },
     "execution_count": 6,
     "metadata": {},
     "output_type": "execute_result"
    }
   ],
   "source": [
    "arrows = [\n",
    "    [\"task 7\", \"task 0\"],\n",
    "    [\"task 1\", \"task 4\"],\n",
    "    [\"task 1\", \"task 2\"],\n",
    "    [\"task 4\", \"task 2\"],\n",
    "    [\"task 4\", \"task 3\"],\n",
    "    [\"task 3\", \"task 2\"],\n",
    "    [\"task 3\", \"task 5\"],\n",
    "    [\"task 5\", \"task 2\"],\n",
    "    [\"task 8\", \"task 2\"],\n",
    "    [\"task 8\", \"task 6\"],\n",
    "]\n",
    "numeric_ar = numeric_arrows(all_tasks, arrows)\n",
    "m = len(numeric_ar)\n",
    "numeric_ar"
   ]
  },
  {
   "cell_type": "code",
   "execution_count": 7,
   "id": "bd183a9d",
   "metadata": {},
   "outputs": [],
   "source": [
    "my_heap = Heap(max_size = n)\n",
    "scv = [0] * n\n",
    "head = [-1] * n\n",
    "before = [None] * m\n",
    "adj = [None] * m\n",
    "\n",
    "for i, ar in enumerate(numeric_ar):\n",
    "    u, v = ar[0], ar[1]\n",
    "    scv[v] += 1\n",
    "    adj[i] = Node(name=all_tasks[v], vertex=v, value=priorities[v])\n",
    "    before[i] = head[u]\n",
    "    head[u] = i\n",
    "    \n",
    "for u, name in enumerate(all_tasks):\n",
    "    if scv[u] == 0:\n",
    "        node = Node(name=name, vertex=u, value=priorities[u])\n",
    "        my_heap.push(node)"
   ]
  },
  {
   "cell_type": "code",
   "execution_count": 8,
   "id": "0ed1545e",
   "metadata": {},
   "outputs": [
    {
     "name": "stdout",
     "output_type": "stream",
     "text": [
      "task 1\n",
      "task 4\n",
      "task 3\n",
      "task 5\n",
      "task 7\n",
      "task 0\n",
      "task 8\n",
      "task 2\n",
      "task 6\n"
     ]
    }
   ],
   "source": [
    "toposort = []\n",
    "b_ind, e_ind = 0, 0\n",
    "while b_ind <= e_ind:\n",
    "    u = my_heap.pop()\n",
    "    if u.vertex == None:\n",
    "        break\n",
    "    e_ind += 1\n",
    "    toposort.append(u)\n",
    "    pos = head[u.vertex]\n",
    "    while pos != -1:\n",
    "        v = adj[pos]\n",
    "        scv[v.vertex] -= 1\n",
    "        if scv[v.vertex] == 0:\n",
    "            my_heap.push(v)\n",
    "        pos = before[pos]\n",
    "    b_ind += 1\n",
    "\n",
    "for _ in toposort:\n",
    "    print(_.name)"
   ]
  },
  {
   "cell_type": "code",
   "execution_count": 10,
   "id": "984aba78",
   "metadata": {},
   "outputs": [
    {
     "name": "stdout",
     "output_type": "stream",
     "text": [
      "1\n",
      "[]\n"
     ]
    }
   ],
   "source": [
    "a = [1]\n",
    "x = a[0]\n",
    "a = a[1:]\n",
    "print(x)\n",
    "print(a)"
   ]
  },
  {
   "cell_type": "code",
   "execution_count": 12,
   "id": "60ea05fb",
   "metadata": {},
   "outputs": [],
   "source": [
    "class Flow:\n",
    "\n",
    "    def __init__(self):\n",
    "        self.vertices = list()\n",
    "        self.arrows = list()\n",
    "\n",
    "\n",
    "    def constructor(self, vertices, arrows):\n",
    "        self.vertices = vertices\n",
    "        self.n = max(self.vertices)\n",
    "        self.arrows = arrows\n",
    "        self.m = len(self.arrows)\n",
    "    \n",
    "\n",
    "    def toposort(self):\n",
    "        \n",
    "        scv = [0] * (self.n+1)\n",
    "        head = [-1] * (self.n+1)\n",
    "        before = [None] * self.m\n",
    "        adj = [None] * self.m\n",
    "\n",
    "        for i, ar in enumerate(self.arrows):\n",
    "            u, v = ar[0], ar[1]\n",
    "            scv[v] += 1\n",
    "            adj[i] = v\n",
    "            before[i] = head[u]\n",
    "            head[u] = i\n",
    "        \n",
    "        topo_queue = []\n",
    "        for ver in self.vertices:\n",
    "            if scv[ver] == 0:\n",
    "                topo_queue.append(ver)\n",
    "        \n",
    "        toposort = []\n",
    "        b_ind, e_ind = 0, 0\n",
    "        while b_ind <= e_ind:\n",
    "            if len(topo_queue) > 0:\n",
    "                u = topo_queue[0]\n",
    "                topo_queue = topo_queue[1:]\n",
    "                e_ind += 1\n",
    "                toposort.append(u)\n",
    "                pos = head[u]\n",
    "                while pos != -1:\n",
    "                    v = adj[pos]\n",
    "                    scv[v] -= 1\n",
    "                    if scv[v] == 0:\n",
    "                        topo_queue.append(v)\n",
    "                    pos = before[pos]\n",
    "                b_ind += 1\n",
    "            else:\n",
    "                break\n",
    "        \n",
    "        return toposort"
   ]
  },
  {
   "cell_type": "code",
   "execution_count": 13,
   "id": "8fdfe440",
   "metadata": {},
   "outputs": [],
   "source": [
    "flow = Flow()"
   ]
  },
  {
   "cell_type": "code",
   "execution_count": 14,
   "id": "7617bbba",
   "metadata": {},
   "outputs": [],
   "source": [
    "arrows = [[7, 0],\n",
    " [1, 4],\n",
    " [1, 2],\n",
    " [4, 2],\n",
    " [4, 3],\n",
    " [3, 2],\n",
    " [3, 5],\n",
    " [5, 2],\n",
    " [8, 2],\n",
    " [8, 6]]"
   ]
  },
  {
   "cell_type": "code",
   "execution_count": 15,
   "id": "805db94e",
   "metadata": {},
   "outputs": [],
   "source": [
    "vertices = (0, 1, 2, 3, 4, 5, 6, 7, 8)"
   ]
  },
  {
   "cell_type": "code",
   "execution_count": 16,
   "id": "a43fca46",
   "metadata": {},
   "outputs": [],
   "source": [
    "flow.constructor(vertices, arrows)"
   ]
  },
  {
   "cell_type": "code",
   "execution_count": 17,
   "id": "b9e5a607",
   "metadata": {},
   "outputs": [
    {
     "data": {
      "text/plain": [
       "[1, 7, 8, 4, 0, 6, 3, 5, 2]"
      ]
     },
     "execution_count": 17,
     "metadata": {},
     "output_type": "execute_result"
    }
   ],
   "source": [
    "flow.toposort()"
   ]
  },
  {
   "cell_type": "code",
   "execution_count": null,
   "id": "b9a46eb4",
   "metadata": {},
   "outputs": [],
   "source": []
  }
 ],
 "metadata": {
  "kernelspec": {
   "display_name": "Python 3 (ipykernel)",
   "language": "python",
   "name": "python3"
  },
  "language_info": {
   "codemirror_mode": {
    "name": "ipython",
    "version": 3
   },
   "file_extension": ".py",
   "mimetype": "text/x-python",
   "name": "python",
   "nbconvert_exporter": "python",
   "pygments_lexer": "ipython3",
   "version": "3.8.2"
  }
 },
 "nbformat": 4,
 "nbformat_minor": 5
}
