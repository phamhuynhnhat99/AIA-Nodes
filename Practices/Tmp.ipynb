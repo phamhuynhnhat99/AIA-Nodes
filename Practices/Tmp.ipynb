{
 "cells": [
  {
   "cell_type": "code",
   "execution_count": 23,
   "id": "0ef3532e",
   "metadata": {},
   "outputs": [
    {
     "name": "stdout",
     "output_type": "stream",
     "text": [
      "4 3\n",
      "18\n"
     ]
    }
   ],
   "source": [
    "#!/bin/python3\n",
    "import numpy as np\n",
    "\n",
    "base = int(1000*1000*1000 + 7)\n",
    "\n",
    "global base_mat\n",
    "\n",
    "def multi(base_mat, n):\n",
    "    if n == 1:\n",
    "        return base_mat\n",
    "    k = n // 2\n",
    "    half_mat = multi(base_mat, k)\n",
    "    if n % 2 == 0:\n",
    "        return np.dot(half_mat, half_mat)\n",
    "    else:\n",
    "        return np.dot(np.dot(half_mat, half_mat), base_mat)\n",
    "\n",
    "\n",
    "def process(arr):\n",
    "\n",
    "    n = arr[0][0]\n",
    "    m = arr[0][1]\n",
    "    \n",
    "    base_mat = [[m-2, 1], [m-1, 0]]\n",
    "    \n",
    "    x = [[m, 0]]\n",
    "    y = multi(base_mat, n-1)\n",
    "    res = np.dot(x, )\n",
    "    \n",
    "    return y[0][1] * m % base\n",
    "\n",
    "\n",
    "if __name__ == '__main__':\n",
    "\n",
    "    arr = []\n",
    "\n",
    "    for _ in range(1):\n",
    "        arr.append(list(map(int, input().rstrip().split())))\n",
    "\n",
    "    res = process(arr)\n",
    "    print(res)"
   ]
  },
  {
   "cell_type": "code",
   "execution_count": null,
   "id": "c1de9c62",
   "metadata": {},
   "outputs": [],
   "source": []
  }
 ],
 "metadata": {
  "kernelspec": {
   "display_name": "Python 3 (ipykernel)",
   "language": "python",
   "name": "python3"
  },
  "language_info": {
   "codemirror_mode": {
    "name": "ipython",
    "version": 3
   },
   "file_extension": ".py",
   "mimetype": "text/x-python",
   "name": "python",
   "nbconvert_exporter": "python",
   "pygments_lexer": "ipython3",
   "version": "3.8.2"
  }
 },
 "nbformat": 4,
 "nbformat_minor": 5
}
