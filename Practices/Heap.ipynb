{
 "cells": [
  {
   "cell_type": "code",
   "execution_count": null,
   "id": "0924a5d9",
   "metadata": {},
   "outputs": [
    {
     "ename": "",
     "evalue": "",
     "output_type": "error",
     "traceback": [
      "\u001b[1;31mRunning cells with 'Python 3.10.8 64-bit' requires ipykernel package.\n",
      "\u001b[1;31mRun the following command to install 'ipykernel' into the Python environment. \n",
      "\u001b[1;31mCommand: '/usr/bin/python3.10 -m pip install ipykernel -U --user --force-reinstall'"
     ]
    }
   ],
   "source": [
    "import numpy as np"
   ]
  },
  {
   "cell_type": "code",
   "execution_count": 2,
   "id": "fe337528",
   "metadata": {},
   "outputs": [],
   "source": [
    "infinity = float('inf')\n",
    "r = lambda: np.random.randint(0, 1000)"
   ]
  },
  {
   "cell_type": "code",
   "execution_count": 3,
   "id": "21e84abf",
   "metadata": {},
   "outputs": [
    {
     "data": {
      "text/plain": [
       "[489, 213, 971, 138, 901, 512, 587, 722, 654, 576]"
      ]
     },
     "execution_count": 3,
     "metadata": {},
     "output_type": "execute_result"
    }
   ],
   "source": [
    "b = [r() for _ in range(100000)]\n",
    "b[:10]"
   ]
  },
  {
   "cell_type": "code",
   "execution_count": 4,
   "id": "fd4838de",
   "metadata": {},
   "outputs": [],
   "source": [
    "class Node:\n",
    "    \n",
    "    def __init__(self, name, value):\n",
    "        self.name = name\n",
    "        self.value = value\n",
    "        \n",
    "        \n",
    "    def comparison(self, anotherNode):\n",
    "        if self.value < anotherNode.value:\n",
    "            return -1\n",
    "        if self.value > anotherNode.value:\n",
    "            return 1\n",
    "        return 0"
   ]
  },
  {
   "cell_type": "code",
   "execution_count": 23,
   "id": "7c39aaaf",
   "metadata": {},
   "outputs": [],
   "source": [
    "class Heap:\n",
    "    \n",
    "    def __init__(self, max_size):\n",
    "        self.max_size = max_size\n",
    "        tmp_node = Node('inf', infinity)\n",
    "        self.heap = [tmp_node] * self.max_size\n",
    "        self.size = 0\n",
    "        \n",
    "        \n",
    "    def up(self, index):\n",
    "        clone_node = self.heap[index]\n",
    "        \n",
    "        current_index = index\n",
    "        father_index = (current_index - 1) // 2\n",
    "        while father_index >= 0 and clone_node.comparison(self.heap[father_index]) < 0:\n",
    "            self.heap[current_index] = self.heap[father_index]\n",
    "            current_index = father_index\n",
    "            father_index = (current_index - 1) // 2\n",
    "        self.heap[current_index] = clone_node\n",
    "    \n",
    "    \n",
    "    def down(self, index): # down from top\n",
    "        clone_node = self.heap[index]\n",
    "        \n",
    "        current_index = index\n",
    "        son1_index = current_index * 2 + 1\n",
    "        son2_index = current_index * 2 + 2\n",
    "        \n",
    "        son_index = None\n",
    "        if son1_index < self.size:\n",
    "            son_index = son1_index\n",
    "            if self.heap[son2_index].comparison(self.heap[son1_index]) < 0:\n",
    "                son_index = son2_index\n",
    "            \n",
    "        while son_index and clone_node.comparison(self.heap[son_index]) > 0:\n",
    "            self.heap[current_index] = self.heap[son_index]\n",
    "            current_index = son_index\n",
    "            son1_index = current_index * 2 + 1\n",
    "            son2_index = current_index * 2 + 2\n",
    "            \n",
    "            son_index = None\n",
    "            if son1_index < self.size:\n",
    "                son_index = son1_index\n",
    "                if self.heap[son2_index].comparison(self.heap[son1_index]) < 0:\n",
    "                    son_index = son2_index\n",
    "                \n",
    "        self.heap[current_index] = clone_node\n",
    "    \n",
    "    \n",
    "    def push(self, node):\n",
    "        self.size = self.size + 1\n",
    "        self.heap[self.size - 1] = node\n",
    "        self.up(self.size - 1)\n",
    "       \n",
    "    \n",
    "    def pop(self):\n",
    "        if self.size == 0:\n",
    "            return Node(\"None\", -1)\n",
    "        \n",
    "        top_node = self.heap[0]\n",
    "        self.heap[0] = self.heap[self.size - 1]\n",
    "        self.size = self.size - 1\n",
    "        self.down(0)\n",
    "        return top_node"
   ]
  },
  {
   "cell_type": "code",
   "execution_count": 27,
   "id": "b4b1d43d",
   "metadata": {},
   "outputs": [],
   "source": [
    "my_heap = Heap(10000)\n",
    "my_list = b[:30]"
   ]
  },
  {
   "cell_type": "code",
   "execution_count": 28,
   "id": "6a66bda2",
   "metadata": {},
   "outputs": [
    {
     "name": "stdout",
     "output_type": "stream",
     "text": [
      "8\n",
      "138\n",
      "236\n",
      "213\n",
      "187\n",
      "382\n",
      "322\n",
      "489\n",
      "424\n",
      "611\n",
      "343\n",
      "681\n",
      "512\n",
      "568\n",
      "658\n",
      "722\n",
      "605\n",
      "654\n",
      "857\n",
      "901\n",
      "684\n",
      "576\n",
      "788\n",
      "971\n",
      "722\n",
      "862\n",
      "588\n",
      "587\n",
      "619\n",
      "684\n"
     ]
    }
   ],
   "source": [
    "for i, _ in enumerate(my_list):\n",
    "    tmp_node = Node(str(i), _)\n",
    "    my_heap.push(tmp_node)\n",
    "for i in range(my_heap.size):\n",
    "    print(my_heap.heap[i].value)"
   ]
  },
  {
   "cell_type": "code",
   "execution_count": 29,
   "id": "432651d5",
   "metadata": {},
   "outputs": [
    {
     "name": "stdout",
     "output_type": "stream",
     "text": [
      "8\n",
      "138\n",
      "187\n",
      "213\n",
      "236\n",
      "322\n",
      "343\n",
      "382\n",
      "424\n",
      "489\n",
      "512\n",
      "568\n",
      "576\n",
      "587\n",
      "588\n",
      "605\n",
      "611\n",
      "619\n",
      "654\n",
      "658\n",
      "681\n",
      "684\n",
      "684\n",
      "722\n",
      "722\n",
      "788\n",
      "857\n",
      "862\n",
      "901\n",
      "971\n"
     ]
    }
   ],
   "source": [
    "while my_heap.size > 0:\n",
    "    top_node = my_heap.pop()\n",
    "    print(top_node.value)"
   ]
  },
  {
   "cell_type": "code",
   "execution_count": null,
   "id": "fd4306d0",
   "metadata": {},
   "outputs": [],
   "source": []
  },
  {
   "cell_type": "code",
   "execution_count": null,
   "id": "69c187b8",
   "metadata": {},
   "outputs": [],
   "source": []
  }
 ],
 "metadata": {
  "kernelspec": {
   "display_name": "Python 3.10.8 64-bit",
   "language": "python",
   "name": "python3"
  },
  "language_info": {
   "codemirror_mode": {
    "name": "ipython",
    "version": 3
   },
   "file_extension": ".py",
   "mimetype": "text/x-python",
   "name": "python",
   "nbconvert_exporter": "python",
   "pygments_lexer": "ipython3",
   "version": "3.10.8"
  },
  "vscode": {
   "interpreter": {
    "hash": "8a94588eda9d64d9e9a351ab8144e55b1fabf5113b54e67dd26a8c27df0381b3"
   }
  }
 },
 "nbformat": 4,
 "nbformat_minor": 5
}
